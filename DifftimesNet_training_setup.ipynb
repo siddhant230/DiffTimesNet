{
  "cells": [
    {
      "cell_type": "code",
      "execution_count": null,
      "metadata": {
        "colab": {
          "base_uri": "https://localhost:8080/"
        },
        "id": "2B8wZCwopwqM",
        "outputId": "63882fcf-332a-42df-92a7-2d8d1a649332"
      },
      "outputs": [],
      "source": [
        "!git clone https://github.com/siddhant230/DiffTimesNet.git"
      ]
    },
    {
      "cell_type": "code",
      "execution_count": null,
      "metadata": {
        "colab": {
          "base_uri": "https://localhost:8080/"
        },
        "id": "NydAfOUHp7Vy",
        "outputId": "d085bec7-1c97-4389-f82c-db9e814e626a"
      },
      "outputs": [],
      "source": [
        "%cd DiffTimesNet/\n",
        "!git checkout dev-model-data"
      ]
    },
    {
      "cell_type": "code",
      "execution_count": null,
      "metadata": {
        "colab": {
          "base_uri": "https://localhost:8080/"
        },
        "id": "R3Dc02e_q-nz",
        "outputId": "60589f67-1ff3-4f74-d457-e3dd6498a1b8"
      },
      "outputs": [],
      "source": [
        "!git branch"
      ]
    },
    {
      "cell_type": "markdown",
      "metadata": {
        "id": "y8aSVGsdrE44"
      },
      "source": [
        "### start"
      ]
    },
    {
      "cell_type": "markdown",
      "metadata": {
        "id": "ePUBLDv4rLvD"
      },
      "source": [
        "# get all datasets and save"
      ]
    },
    {
      "cell_type": "code",
      "execution_count": null,
      "metadata": {
        "colab": {
          "base_uri": "https://localhost:8080/"
        },
        "id": "EGPqfr7LrD_8",
        "outputId": "56eaf288-9316-478c-cfb0-e703a5590bf2"
      },
      "outputs": [],
      "source": [
        "!python get_data.py"
      ]
    },
    {
      "cell_type": "markdown",
      "metadata": {
        "id": "AhB9qkhirTcs"
      },
      "source": [
        "# dependencies"
      ]
    },
    {
      "cell_type": "code",
      "execution_count": null,
      "metadata": {
        "id": "hY9tdqGurCnF"
      },
      "outputs": [],
      "source": [
        "!pip install -q -r requirements.txt"
      ]
    },
    {
      "cell_type": "code",
      "execution_count": 6,
      "metadata": {
        "id": "dkLSpIzrtEJH"
      },
      "outputs": [],
      "source": []
    },
    {
      "cell_type": "markdown",
      "metadata": {
        "id": "OrdyZti7QKWL"
      },
      "source": [
        "## TASKS"
      ]
    },
    {
      "cell_type": "markdown",
      "metadata": {
        "id": "7PcT997JPjED"
      },
      "source": [
        "### classification"
      ]
    },
    {
      "cell_type": "code",
      "execution_count": null,
      "metadata": {
        "id": "gsHWUBIurjN6"
      },
      "outputs": [],
      "source": [
        "!chmod +x ./scripts/classification/TimesNet.sh\n",
        "!./scripts/classification/TimesNet.sh"
      ]
    },
    {
      "cell_type": "markdown",
      "metadata": {
        "id": "D7e2USX5PlF4"
      },
      "source": [
        "###long term forecast"
      ]
    },
    {
      "cell_type": "code",
      "execution_count": null,
      "metadata": {
        "id": "wmF_h2_j18IP"
      },
      "outputs": [],
      "source": [
        "!chmod +x ./scripts/long_term_forecast/ETT_script/TimesNet_ETTh1.sh\n",
        "!./scripts/long_term_forecast/ETT_script/TimesNet_ETTh1.sh"
      ]
    },
    {
      "cell_type": "markdown",
      "metadata": {
        "id": "Hdj1CS2DP2lZ"
      },
      "source": [
        "###short-term forecast"
      ]
    },
    {
      "cell_type": "code",
      "execution_count": null,
      "metadata": {
        "id": "gW16YrGOP5P6"
      },
      "outputs": [],
      "source": [
        "!chmod +x ./scripts/short_term_forecast/TimesNet_M4.sh\n",
        "!./scripts/short_term_forecast/TimesNet_M4.sh"
      ]
    },
    {
      "cell_type": "markdown",
      "metadata": {
        "id": "jxT0T9g0Pppk"
      },
      "source": [
        "###imputation"
      ]
    },
    {
      "cell_type": "code",
      "execution_count": null,
      "metadata": {
        "id": "55NJd7WV9Uwb"
      },
      "outputs": [],
      "source": [
        "!chmod +x ./scripts/imputation/ETT_script/TimesNet_ETTh1.sh\n",
        "!./scripts/imputation/ETT_script/TimesNet_ETTh1.sh"
      ]
    },
    {
      "cell_type": "markdown",
      "metadata": {
        "id": "rMybi0b3PwRV"
      },
      "source": [
        "###anomaly detection"
      ]
    },
    {
      "cell_type": "code",
      "execution_count": null,
      "metadata": {
        "colab": {
          "base_uri": "https://localhost:8080/"
        },
        "id": "YVfPyIGz9Uub",
        "outputId": "1be5b062-3774-41b6-c309-da5b9db3f7cb"
      },
      "outputs": [],
      "source": [
        "!chmod +x ./scripts/anomaly_detection/PSM/TimesNet.sh\n",
        "!./scripts/anomaly_detection/PSM/TimesNet.sh"
      ]
    },
    {
      "cell_type": "code",
      "execution_count": null,
      "metadata": {
        "id": "eYcq9Ys5RVEM"
      },
      "outputs": [],
      "source": []
    }
  ],
  "metadata": {
    "accelerator": "GPU",
    "colab": {
      "gpuType": "T4",
      "provenance": []
    },
    "kernelspec": {
      "display_name": "Python 3",
      "name": "python3"
    },
    "language_info": {
      "name": "python"
    }
  },
  "nbformat": 4,
  "nbformat_minor": 0
}
