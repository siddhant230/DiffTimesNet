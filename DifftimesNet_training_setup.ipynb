{
  "cells": [
    {
      "cell_type": "code",
      "execution_count": null,
      "metadata": {
        "colab": {
          "base_uri": "https://localhost:8080/"
        },
        "id": "2B8wZCwopwqM",
        "outputId": "63882fcf-332a-42df-92a7-2d8d1a649332"
      },
      "outputs": [],
      "source": [
        "!git clone https://github.com/siddhant230/DiffTimesNet.git"
      ]
    },
    {
      "cell_type": "code",
      "execution_count": null,
      "metadata": {
        "colab": {
          "base_uri": "https://localhost:8080/"
        },
        "id": "NydAfOUHp7Vy",
        "outputId": "d085bec7-1c97-4389-f82c-db9e814e626a"
      },
      "outputs": [],
      "source": [
        "%cd DiffTimesNet/\n",
        "!git checkout dev-model-data"
      ]
    },
    {
      "cell_type": "code",
      "execution_count": null,
      "metadata": {
        "colab": {
          "base_uri": "https://localhost:8080/"
        },
        "id": "R3Dc02e_q-nz",
        "outputId": "60589f67-1ff3-4f74-d457-e3dd6498a1b8"
      },
      "outputs": [],
      "source": [
        "!git branch"
      ]
    },
    {
      "cell_type": "markdown",
      "metadata": {
        "id": "y8aSVGsdrE44"
      },
      "source": [
        "### start"
      ]
    },
    {
      "cell_type": "markdown",
      "metadata": {
        "id": "ePUBLDv4rLvD"
      },
      "source": [
        "# get all datasets and save"
      ]
    },
    {
      "cell_type": "code",
      "execution_count": null,
      "metadata": {
        "colab": {
          "base_uri": "https://localhost:8080/"
        },
        "id": "EGPqfr7LrD_8",
        "outputId": "56eaf288-9316-478c-cfb0-e703a5590bf2"
      },
      "outputs": [],
      "source": [
        "!python get_data.py"
      ]
    },
    {
      "cell_type": "markdown",
      "metadata": {
        "id": "AhB9qkhirTcs"
      },
      "source": [
        "# dependencies"
      ]
    },
    {
      "cell_type": "code",
      "execution_count": null,
      "metadata": {
        "id": "hY9tdqGurCnF"
      },
      "outputs": [],
      "source": [
        "!pip install -q -r requirements.txt"
      ]
    },
    {
      "cell_type": "code",
      "execution_count": 6,
      "metadata": {
        "id": "dkLSpIzrtEJH"
      },
      "outputs": [],
      "source": []
    },
    {
      "cell_type": "markdown",
      "metadata": {
        "id": "OrdyZti7QKWL"
      },
      "source": [
        "## TASKS"
      ]
    },
    {
      "cell_type": "markdown",
      "metadata": {
        "id": "7PcT997JPjED"
      },
      "source": [
        "### classification"
      ]
    },
    {
      "cell_type": "code",
      "execution_count": null,
      "metadata": {
        "id": "gsHWUBIurjN6"
      },
      "outputs": [],
      "source": [
        "!chmod +x ./scripts/classification/TimesNet.sh\n",
        "!./scripts/classification/TimesNet.sh"
      ]
    },
    {
      "cell_type": "markdown",
      "metadata": {
        "id": "D7e2USX5PlF4"
      },
      "source": [
        "###long term forecast"
      ]
    },
    {
      "cell_type": "code",
      "execution_count": null,
      "metadata": {
        "id": "wmF_h2_j18IP"
      },
      "outputs": [],
      "source": [
        "!chmod +x ./scripts/long_term_forecast/ETT_script/TimesNet_ETTh1.sh\n",
        "!./scripts/long_term_forecast/ETT_script/TimesNet_ETTh1.sh"
      ]
    },
    {
      "cell_type": "markdown",
      "metadata": {
        "id": "Hdj1CS2DP2lZ"
      },
      "source": [
        "###short-term forecast"
      ]
    },
    {
      "cell_type": "code",
      "execution_count": null,
      "metadata": {
        "id": "gW16YrGOP5P6"
      },
      "outputs": [],
      "source": [
        "!chmod +x ./scripts/short_term_forecast/TimesNet_M4.sh\n",
        "!./scripts/short_term_forecast/TimesNet_M4.sh"
      ]
    },
    {
      "cell_type": "markdown",
      "metadata": {
        "id": "jxT0T9g0Pppk"
      },
      "source": [
        "###imputation"
      ]
    },
    {
      "cell_type": "code",
      "execution_count": null,
      "metadata": {
        "id": "55NJd7WV9Uwb"
      },
      "outputs": [],
      "source": [
        "!chmod +x ./scripts/imputation/ETT_script/TimesNet_ETTh1.sh\n",
        "!./scripts/imputation/ETT_script/TimesNet_ETTh1.sh"
      ]
    },
    {
      "cell_type": "markdown",
      "metadata": {
        "id": "rMybi0b3PwRV"
      },
      "source": [
        "###anomaly detection"
      ]
    },
    {
      "cell_type": "code",
      "execution_count": null,
      "metadata": {
        "colab": {
          "base_uri": "https://localhost:8080/"
        },
        "id": "YVfPyIGz9Uub",
        "outputId": "1be5b062-3774-41b6-c309-da5b9db3f7cb"
      },
      "outputs": [],
      "source": [
        "!chmod +x ./scripts/anomaly_detection/PSM/TimesNet.sh\n",
        "!./scripts/anomaly_detection/PSM/TimesNet.sh"
      ]
    },
    {
      "cell_type": "code",
      "execution_count": null,
      "metadata": {
        "id": "eYcq9Ys5RVEM"
      },
      "outputs": [],
      "source": []
    },
    {
      "cell_type": "markdown",
      "metadata": {},
      "source": [
        "## visual"
      ]
    },
    {
      "cell_type": "code",
      "execution_count": null,
      "metadata": {},
      "outputs": [],
      "source": [
        "import re\n",
        "import pandas as pd\n",
        "import os\n",
        "from io import StringIO\n",
        "\n",
        "def get_benchmark_df():\n",
        "  data_string = \"\"\"\n",
        "  EthanolConcentration 32.3 43.7 45.2 32.3 39.9 31.1 28.9 32.7 31.9 31.6 30.8 31.6 32.7 31.2 28.1 33.8 32.6 29.7 35.7\n",
        "  FaceDetection 52.9 63.3 64.7 57.7 65.7 66.7 52.8 67.3 68.6 67.0 65.7 68.4 68.0 66.0 66.3 67.6 68.0 67.5 68.6\n",
        "  Handwriting 28.6 15.8 58.8 15.2 25.8 24.6 53.3 32.0 27.4 32.8 29.4 36.7 31.6 28.0 32.5 33.8 27.0 26.1 32.1\n",
        "  Heartbeat 71.7 73.2 75.6 72.2 77.1 72.7 75.6 76.1 77.1 80.5 75.6 74.6 73.7 73.7 71.2 77.6 75.1 75.1 78.0\n",
        "  JapaneseVowels 94.9 86.5 96.2 79.7 98.1 98.4 98.9 98.7 97.8 98.9 98.4 96.2 99.2 98.4 95.9 98.9 96.2 96.2 98.4\n",
        "  PEMS-SF 71.1 98.3 75.1 39.9 86.7 86.1 68.8 82.1 82.7 81.5 83.2 82.7 87.3 80.9 86.0 83.8 75.1 88.4 89.6\n",
        "  SelfRegulationSCP1 77.7 84.6 90.8 68.9 84.0 90.8 84.6 92.2 90.4 90.1 88.1 84.0 89.4 88.7 89.6 92.5 87.3 89.8 91.8\n",
        "  SelfRegulationSCP2 53.9 48.9 53.3 46.6 52.8 52.2 55.6 53.9 56.7 53.3 53.3 50.6 57.2 54.4 55.0 56.1 50.5 51.1 57.2\n",
        "  SpokenArabicDigits 96.3 69.6 71.2 31.9 100.0 100.0 95.6 98.4 97.0 100.0 99.6 100.0 100.0 100.0 100.0 98.8 81.4 100.0 99.0\n",
        "  UWaveGestureLibrary 90.3 75.9 94.4 41.2 87.8 85.9 88.4 85.6 85.6 85.6 83.4 85.9 87.5 85.3 85.0 86.6 82.1 80.3 85.3\n",
        "  Average_Accuracy 67.0 66.0 72.5 48.6 71.8 70.9 70.3 71.9 71.5 72.1 70.8 71.1 72.7 70.7 71.0 73.0 67.5 70.4 73.6\n",
        "  \"\"\"\n",
        "  df = pd.read_csv(StringIO(data_string), delim_whitespace=True, header=None)\n",
        "  df = df.reset_index(drop=True).iloc[:, [0, 19]]\n",
        "  bench_df = pd.DataFrame()\n",
        "  bench_df[\"Exp Name\"] = df.iloc[:, 0]\n",
        "  bench_df[\"acc-BENCHMARK\"] = df.iloc[:, -1]\n",
        "  return bench_df\n",
        "\n",
        "\n",
        "def parser(text_file_paths, get_metadata=False):\n",
        "  df = get_benchmark_df()\n",
        "  for text_file_path in os.listdir(text_file_paths):\n",
        "    if \".txt\" not in text_file_path:\n",
        "      continue\n",
        "    text_file_path = os.path.join(text_file_paths, text_file_path)\n",
        "\n",
        "    with open(text_file_path, \"r\") as f:\n",
        "      text = f.read()\n",
        "\n",
        "    setup_name = os.path.basename(text_file_path)\n",
        "    \n",
        "    data_splits = text.split(\"Args in experiment:\")[1:]\n",
        "    if len(data_splits) == 10:\n",
        "      mds, names, accs = [], [], []\n",
        "      for data in data_splits:\n",
        "        metadata = str(re.search('(?<=Namespace)(.*)', data).groups()[0])\n",
        "        name = str(re.search('(?<=model_id=)(.*),', data).groups()[0].split(\",\")[0])\n",
        "        acc = str(re.search('(?<=accuracy:)(.*)', data).groups()[0]).replace(\"\\n\", \"\")\n",
        "        names.append(name)\n",
        "        accs.append(round(float(acc)*100.0, 2))\n",
        "        mds.append(metadata)\n",
        "\n",
        "      df[\"Exp Name\"] = names + [\"Average_Accuracy\"]\n",
        "      df[f\"acc-{setup_name}\"] = accs + [sum(accs)/len(accs)]\n",
        "      if get_metadata:\n",
        "        df[f\"meta-{setup_name}\"] = mds + [\" \"]\n",
        "    else:\n",
        "      print(\"Skipping : \", setup_name)\n",
        "  return df\n",
        "  "
      ]
    },
    {
      "cell_type": "code",
      "execution_count": null,
      "metadata": {},
      "outputs": [],
      "source": []
    }
  ],
  "metadata": {
    "accelerator": "GPU",
    "colab": {
      "gpuType": "T4",
      "provenance": []
    },
    "kernelspec": {
      "display_name": "Python 3",
      "name": "python3"
    },
    "language_info": {
      "name": "python"
    }
  },
  "nbformat": 4,
  "nbformat_minor": 0
}
